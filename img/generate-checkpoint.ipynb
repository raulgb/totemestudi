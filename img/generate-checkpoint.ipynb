{
 "cells": [
  {
   "cell_type": "code",
   "execution_count": 4,
   "metadata": {},
   "outputs": [
    {
     "name": "stdout",
     "output_type": "stream",
     "text": [
      "['NuriaCoco103-800.jpg', 'NuriaCoco107-800.jpg', 'NuriaCoco111-800.jpg', 'NuriaCoco114-800.jpg', 'NuriaCoco123-800.jpg', 'NuriaCoco133-800.jpg', 'NuriaCoco138-800.jpg', 'NuriaCoco143-800.jpg', 'NuriaCoco154-800.jpg', 'NuriaCoco158-800.jpg', 'NuriaCoco193-800.jpg', 'NuriaCoco202-800.jpg', 'NuriaCoco282-800.jpg', 'NuriaCoco287-800.jpg', 'NuriaCoco303-800.jpg']\n"
     ]
    }
   ],
   "source": [
    "from os import listdir\n",
    "from os.path import isfile, join\n",
    "mypath =r\"C:\\Users\\Usuario\\Documents\\Web_codigo_N_J\\img\\Nuria i Coco\\resized\"\n",
    "onlyfiles = [f for f in listdir(mypath) if isfile(join(mypath, f))]\n",
    "print(onlyfiles)\n"
   ]
  }
 ],
 "metadata": {
  "kernelspec": {
   "display_name": "Python 3",
   "language": "python",
   "name": "python3"
  },
  "language_info": {
   "codemirror_mode": {
    "name": "ipython",
    "version": 3
   },
   "file_extension": ".py",
   "mimetype": "text/x-python",
   "name": "python",
   "nbconvert_exporter": "python",
   "pygments_lexer": "ipython3",
   "version": "3.7.3"
  }
 },
 "nbformat": 4,
 "nbformat_minor": 2
}
