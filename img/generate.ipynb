{
 "cells": [
  {
   "cell_type": "code",
   "execution_count": 18,
   "metadata": {
    "scrolled": true
   },
   "outputs": [
    {
     "name": "stdout",
     "output_type": "stream",
     "text": [
      "['Nuria&Coco-H600.jpg', 'Nuria&Coco_1-H600.jpg', 'Nuria&Coco_10-H800.jpg', 'Nuria&Coco_11-H800.jpg', 'Nuria&Coco_12-H800.jpg', 'Nuria&Coco_13-H800.jpg', 'Nuria&Coco_14-H800.jpg', 'Nuria&Coco_15-H800.jpg', 'Nuria&Coco_16-H600.jpg', 'Nuria&Coco_17-H800.jpg', 'Nuria&Coco_18-H800.jpg', 'Nuria&Coco_19-H600.jpg', 'Nuria&Coco_2-H800.jpg', 'Nuria&Coco_20-H800.jpg', 'Nuria&Coco_21-H800.jpg', 'Nuria&Coco_22-H600.jpg', 'Nuria&Coco_23-H800.jpg', 'Nuria&Coco_24-H600.jpg', 'Nuria&Coco_25-H800.jpg', 'Nuria&Coco_26-H600.jpg', 'Nuria&Coco_27-H600.jpg', 'Nuria&Coco_28-H800.jpg', 'Nuria&Coco_29-H800.jpg', 'Nuria&Coco_3-H800.jpg', 'Nuria&Coco_30-H800.jpg', 'Nuria&Coco_31-H800.jpg', 'Nuria&Coco_32-H800.jpg', 'Nuria&Coco_33-H800.jpg', 'Nuria&Coco_34-H800.jpg', 'Nuria&Coco_35-H800.jpg', 'Nuria&Coco_36-H800.jpg', 'Nuria&Coco_37-H600.jpg', 'Nuria&Coco_38-H800.jpg', 'Nuria&Coco_39-H800.jpg', 'Nuria&Coco_4-H800.jpg', 'Nuria&Coco_40-H600.jpg', 'Nuria&Coco_41-H800.jpg', 'Nuria&Coco_5-H800.jpg', 'Nuria&Coco_6-H800.jpg', 'Nuria&Coco_7-H800.jpg', 'Nuria&Coco_8-H800.jpg', 'Nuria&Coco_9-H800.jpg']\n",
      "<li><a href=\"#\"><img src=\"img/jpg pagina web evelin/resized/Nuria&Coco-H600.jpg\"></a></li>\n",
      "<li><a href=\"#\"><img src=\"img/jpg pagina web evelin/resized/Nuria&Coco_1-H600.jpg\"></a></li>\n",
      "<li><a href=\"#\"><img src=\"img/jpg pagina web evelin/resized/Nuria&Coco_10-H800.jpg\"></a></li>\n",
      "<li><a href=\"#\"><img src=\"img/jpg pagina web evelin/resized/Nuria&Coco_11-H800.jpg\"></a></li>\n",
      "<li><a href=\"#\"><img src=\"img/jpg pagina web evelin/resized/Nuria&Coco_12-H800.jpg\"></a></li>\n",
      "<li><a href=\"#\"><img src=\"img/jpg pagina web evelin/resized/Nuria&Coco_13-H800.jpg\"></a></li>\n",
      "<li><a href=\"#\"><img src=\"img/jpg pagina web evelin/resized/Nuria&Coco_14-H800.jpg\"></a></li>\n",
      "<li><a href=\"#\"><img src=\"img/jpg pagina web evelin/resized/Nuria&Coco_15-H800.jpg\"></a></li>\n",
      "<li><a href=\"#\"><img src=\"img/jpg pagina web evelin/resized/Nuria&Coco_16-H600.jpg\"></a></li>\n",
      "<li><a href=\"#\"><img src=\"img/jpg pagina web evelin/resized/Nuria&Coco_17-H800.jpg\"></a></li>\n",
      "<li><a href=\"#\"><img src=\"img/jpg pagina web evelin/resized/Nuria&Coco_18-H800.jpg\"></a></li>\n",
      "<li><a href=\"#\"><img src=\"img/jpg pagina web evelin/resized/Nuria&Coco_19-H600.jpg\"></a></li>\n",
      "<li><a href=\"#\"><img src=\"img/jpg pagina web evelin/resized/Nuria&Coco_2-H800.jpg\"></a></li>\n",
      "<li><a href=\"#\"><img src=\"img/jpg pagina web evelin/resized/Nuria&Coco_20-H800.jpg\"></a></li>\n",
      "<li><a href=\"#\"><img src=\"img/jpg pagina web evelin/resized/Nuria&Coco_21-H800.jpg\"></a></li>\n",
      "<li><a href=\"#\"><img src=\"img/jpg pagina web evelin/resized/Nuria&Coco_22-H600.jpg\"></a></li>\n",
      "<li><a href=\"#\"><img src=\"img/jpg pagina web evelin/resized/Nuria&Coco_23-H800.jpg\"></a></li>\n",
      "<li><a href=\"#\"><img src=\"img/jpg pagina web evelin/resized/Nuria&Coco_24-H600.jpg\"></a></li>\n",
      "<li><a href=\"#\"><img src=\"img/jpg pagina web evelin/resized/Nuria&Coco_25-H800.jpg\"></a></li>\n",
      "<li><a href=\"#\"><img src=\"img/jpg pagina web evelin/resized/Nuria&Coco_26-H600.jpg\"></a></li>\n",
      "<li><a href=\"#\"><img src=\"img/jpg pagina web evelin/resized/Nuria&Coco_27-H600.jpg\"></a></li>\n",
      "<li><a href=\"#\"><img src=\"img/jpg pagina web evelin/resized/Nuria&Coco_28-H800.jpg\"></a></li>\n",
      "<li><a href=\"#\"><img src=\"img/jpg pagina web evelin/resized/Nuria&Coco_29-H800.jpg\"></a></li>\n",
      "<li><a href=\"#\"><img src=\"img/jpg pagina web evelin/resized/Nuria&Coco_3-H800.jpg\"></a></li>\n",
      "<li><a href=\"#\"><img src=\"img/jpg pagina web evelin/resized/Nuria&Coco_30-H800.jpg\"></a></li>\n",
      "<li><a href=\"#\"><img src=\"img/jpg pagina web evelin/resized/Nuria&Coco_31-H800.jpg\"></a></li>\n",
      "<li><a href=\"#\"><img src=\"img/jpg pagina web evelin/resized/Nuria&Coco_32-H800.jpg\"></a></li>\n",
      "<li><a href=\"#\"><img src=\"img/jpg pagina web evelin/resized/Nuria&Coco_33-H800.jpg\"></a></li>\n",
      "<li><a href=\"#\"><img src=\"img/jpg pagina web evelin/resized/Nuria&Coco_34-H800.jpg\"></a></li>\n",
      "<li><a href=\"#\"><img src=\"img/jpg pagina web evelin/resized/Nuria&Coco_35-H800.jpg\"></a></li>\n",
      "<li><a href=\"#\"><img src=\"img/jpg pagina web evelin/resized/Nuria&Coco_36-H800.jpg\"></a></li>\n",
      "<li><a href=\"#\"><img src=\"img/jpg pagina web evelin/resized/Nuria&Coco_37-H600.jpg\"></a></li>\n",
      "<li><a href=\"#\"><img src=\"img/jpg pagina web evelin/resized/Nuria&Coco_38-H800.jpg\"></a></li>\n",
      "<li><a href=\"#\"><img src=\"img/jpg pagina web evelin/resized/Nuria&Coco_39-H800.jpg\"></a></li>\n",
      "<li><a href=\"#\"><img src=\"img/jpg pagina web evelin/resized/Nuria&Coco_4-H800.jpg\"></a></li>\n",
      "<li><a href=\"#\"><img src=\"img/jpg pagina web evelin/resized/Nuria&Coco_40-H600.jpg\"></a></li>\n",
      "<li><a href=\"#\"><img src=\"img/jpg pagina web evelin/resized/Nuria&Coco_41-H800.jpg\"></a></li>\n",
      "<li><a href=\"#\"><img src=\"img/jpg pagina web evelin/resized/Nuria&Coco_5-H800.jpg\"></a></li>\n",
      "<li><a href=\"#\"><img src=\"img/jpg pagina web evelin/resized/Nuria&Coco_6-H800.jpg\"></a></li>\n",
      "<li><a href=\"#\"><img src=\"img/jpg pagina web evelin/resized/Nuria&Coco_7-H800.jpg\"></a></li>\n",
      "<li><a href=\"#\"><img src=\"img/jpg pagina web evelin/resized/Nuria&Coco_8-H800.jpg\"></a></li>\n",
      "<li><a href=\"#\"><img src=\"img/jpg pagina web evelin/resized/Nuria&Coco_9-H800.jpg\"></a></li>\n",
      "\n"
     ]
    }
   ],
   "source": [
    "from os import listdir\n",
    "from os.path import isfile, join\n",
    "mypath =r\"C:\\Users\\Usuario\\Documents\\Web_codigo_N_J\\img\\jpg pagina web evelin\\resized\"\n",
    "onlyfiles = [f for f in listdir(mypath) if isfile(join(mypath, f))]\n",
    "print(onlyfiles)\n",
    "f = open(\"demofile3.txt\", \"w\")\n",
    "for file in onlyfiles:\n",
    "    f.write(\"<li><a href=\\\"#\\\"><img src=\\\"img/jpg pagina web evelin/resized/\"+file+\"\\\"></a></li>\\n\")\n",
    "f.close()\n",
    "\n",
    "#open and read the file after the appending:\n",
    "f = open(\"demofile3.txt\", \"r\")\n",
    "print(f.read())"
   ]
  }
 ],
 "metadata": {
  "kernelspec": {
   "display_name": "Python 3",
   "language": "python",
   "name": "python3"
  },
  "language_info": {
   "codemirror_mode": {
    "name": "ipython",
    "version": 3
   },
   "file_extension": ".py",
   "mimetype": "text/x-python",
   "name": "python",
   "nbconvert_exporter": "python",
   "pygments_lexer": "ipython3",
   "version": "3.7.3"
  }
 },
 "nbformat": 4,
 "nbformat_minor": 2
}
